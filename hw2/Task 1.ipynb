{
 "cells": [
  {
   "cell_type": "code",
   "execution_count": 3,
   "metadata": {
    "collapsed": true
   },
   "outputs": [],
   "source": [
    "import numpy as np"
   ]
  },
  {
   "cell_type": "code",
   "execution_count": 9,
   "metadata": {},
   "outputs": [],
   "source": [
    "x = np.array([[-2.0, 0.0], [-1.0, -0.9], [1.0, -1.5],[-1.0, 0.5], [1.2, 0.7], [2.0, -0.5], [0.0, -1.5], [0.4, 1.0]])\n",
    "y = np.array([1,1,3,1,2,3,3,2])\n",
    "labels = [1,2,3]\n",
    "w = np.array([[-1,1],[1,1],[0,-1]])"
   ]
  },
  {
   "cell_type": "code",
   "execution_count": 10,
   "metadata": {},
   "outputs": [],
   "source": [
    "scorearr = []\n",
    "for i in range(len(y)):\n",
    "    scores = []\n",
    "    for k in labels:\n",
    "        score = (1 if y[i] != k else 0) - ((w[y[i]-1]) @ x[i] - w[k-1] @ x[i])\n",
    "        scores.append(score)\n",
    "    scorearr.append(scores)\n",
    "    "
   ]
  },
  {
   "cell_type": "code",
   "execution_count": 15,
   "metadata": {},
   "outputs": [],
   "source": [
    "y_hat = np.argmax(scorearr, 1) + 1"
   ]
  },
  {
   "cell_type": "code",
   "execution_count": 18,
   "metadata": {},
   "outputs": [
    {
     "name": "stdout",
     "output_type": "stream",
     "text": [
      "Most violating constraints:\n",
      "x_1, 1, 1\n",
      "x_2, 1, 3\n",
      "x_3, 3, 3\n",
      "x_4, 1, 1\n",
      "x_5, 2, 2\n",
      "x_6, 3, 2\n",
      "x_7, 3, 3\n",
      "x_8, 2, 1\n"
     ]
    }
   ],
   "source": [
    "print(\"Most violating constraints:\")\n",
    "for i in range(len(y)):\n",
    "    print(\"x_%d, %d, %d\" %(i+1, y[i], y_hat[i]))"
   ]
  },
  {
   "cell_type": "code",
   "execution_count": null,
   "metadata": {
    "collapsed": true
   },
   "outputs": [],
   "source": []
  }
 ],
 "metadata": {
  "kernelspec": {
   "display_name": "Python [conda root]",
   "language": "python",
   "name": "conda-root-py"
  },
  "language_info": {
   "codemirror_mode": {
    "name": "ipython",
    "version": 3
   },
   "file_extension": ".py",
   "mimetype": "text/x-python",
   "name": "python",
   "nbconvert_exporter": "python",
   "pygments_lexer": "ipython3",
   "version": "3.6.0"
  }
 },
 "nbformat": 4,
 "nbformat_minor": 2
}
