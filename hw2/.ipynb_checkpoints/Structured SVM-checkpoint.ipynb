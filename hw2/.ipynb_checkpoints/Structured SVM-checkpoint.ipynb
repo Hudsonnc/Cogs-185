{
 "cells": [
  {
   "cell_type": "code",
   "execution_count": 12,
   "metadata": {
    "collapsed": true
   },
   "outputs": [],
   "source": [
    "import dlib\n",
    "import numpy as np\n",
    "import ocr_preprocess as ocrp"
   ]
  },
  {
   "cell_type": "code",
   "execution_count": 13,
   "metadata": {
    "collapsed": true
   },
   "outputs": [],
   "source": [
    "class windowStructSVM:\n",
    "    def __init__(self, samples, labels, window, num_classes, object_dimension, C = 1, ICM_iters = 3):\n",
    "        self.samples = samples\n",
    "        self.num_samples = len(samples)\n",
    "\n",
    "        self.labels = labels\n",
    "        self.window = window\n",
    "        self.num_classes = num_classes\n",
    "        self.object_dimension = object_dimension\n",
    "        \n",
    "        self.num_dimensions = num_classes*window + num_classes*object_dimension*window\n",
    "        \n",
    "        self.C = C\n",
    "        self.ICM_iters = ICM_iters #hyperparameter for number of times to run ICM sampling\n",
    "    \n",
    "    #Make_psi performs one-hot encoding for the labels\n",
    "    def make_psi(self, x, y):\n",
    "        psi = dlib.vector()\n",
    "        psi.resize(self.num_dimensions)\n",
    "        for i in range(self.window):\n",
    "            idx_obj = i*(self.window*self.object_dimension + self.num_classes) + y[i]*self.object_dimension\n",
    "            idx_obj = int(idx_obj)\n",
    "            idx_class = i*(self.window*self.object_dimension + self.num_classes) + self.window*self.object_dimension + y[i]\n",
    "            idx_class = int(idx_class)\n",
    "            for j in range(self.object_dimension):\n",
    "                psi[idx_obj+j] = x[i][j]\n",
    "            psi[idx_class] = 1\n",
    "        return(psi)\n",
    "    \n",
    "#     #Make_psi performs neighbor checking\n",
    "#     def make_psi(self, x, y):\n",
    "#         psi = dlib.vector()\n",
    "#         psi.resize(self.num_dimensions)\n",
    "#         for i in range(self.window):\n",
    "#             idx_obj = i*(self.window*self.object_dimension + self.num_classes) + y[i]*self.object_dimension\n",
    "#             idx_obj = int(idx_obj)\n",
    "#             idx_class = i*(self.window*self.object_dimension + self.num_classes) + self.window*self.object_dimension + y[i]\n",
    "#             idx_class = int(idx_class)\n",
    "#             for j in range(self.object_dimension):\n",
    "#                 psi[idx_obj+j] = x[i][j]\n",
    "#             psi[idx_class] = 1\n",
    "#         return(psi)\n",
    "    \n",
    "    # Using Iterated Conditional Mode (ICM) for separation oracle\n",
    "    def separation_oracle(self, idx, current_solution):\n",
    "        samp = self.samples[idx]\n",
    "        max_scoring_label = np.random.choice(self.num_classes, self.window) #random initialization for best label\n",
    "        max_error = 0 #max value of target function\n",
    "        for ICM_iter in range(self.ICM_iters):\n",
    "            for entry in range(self.window):\n",
    "                for proposed_label in range(self.num_classes):\n",
    "                    tmp_label = np.copy(max_scoring_label)\n",
    "                    tmp_label[entry] = proposed_label\n",
    "                    psi_y = self.make_psi(samp, tmp_label)\n",
    "                    score_y = dlib.dot(current_solution, psi_y)\n",
    "                    label_dist = sum([1 if u != v else 0 for u, v in zip(self.labels[idx], tmp_label)]) #Hamming distance\n",
    "                    if max_error < score_y + label_dist:\n",
    "                        max_error = score_y + label_dist\n",
    "                        max_scoring_label[entry] = proposed_label\n",
    "        label_dist = sum([1 if u != v else 0 for u, v in zip(self.labels[idx], max_scoring_label)]) #Hamming distance\n",
    "        psi = self.make_psi(samp, max_scoring_label)\n",
    "        return(label_dist, psi)\n",
    "    \n",
    "    def get_truth_joint_feature_vector(self, idx):\n",
    "        return self.make_psi(self.samples[idx], self.labels[idx])\n",
    "    \n",
    "    #Do ICM at test time because of complexity\n",
    "    def predict_label(self, weights, sample, ICM_iters = 3):\n",
    "        max_scoring_label = np.random.choice(self.num_classes, self.window) #random initialization for best label\n",
    "        max_score = 0\n",
    "        for ICM_iter in range(ICM_iters):\n",
    "            for entry in range(self.window):\n",
    "                for proposed_label in range(self.num_classes):\n",
    "                    tmp_label = np.copy(max_scoring_label)\n",
    "                    tmp_label[entry] = proposed_label\n",
    "                    psi_y = self.make_psi(sample, tmp_label)\n",
    "                    score_y = dlib.dot(weights, psi_y)\n",
    "                    if max_score < score_y:\n",
    "                        max_score = score_y\n",
    "                        max_scoring_label[entry] = proposed_label\n",
    "        return(max_scoring_label)\n",
    "    \n",
    "    def predict_labels(self, weights, samples, ICM_iters = 3):\n",
    "        return(np.array([self.predict_label(weights, sample, ICM_iters = ICM_iters) for sample in samples]))"
   ]
  },
  {
   "cell_type": "code",
   "execution_count": 14,
   "metadata": {
    "collapsed": true
   },
   "outputs": [],
   "source": [
    "window = 3\n",
    "\n",
    "ocr = ocrp.read_OCR('letter.data')\n",
    "train_chops = ocrp.chop_idxs(ocr, start = 0, stop = 4000, window=window)\n",
    "train_features = ocrp.chops_to_features(ocr, train_chops)\n",
    "train_labels = ocrp.chops_to_labels(ocr, train_chops)\n",
    "\n",
    "test_chops = ocrp.chop_idxs(ocr, start = 4000, stop = 5000, window=window)\n",
    "test_features = ocrp.chops_to_features(ocr, test_chops)\n",
    "test_labels = ocrp.chops_to_labels(ocr, test_chops)"
   ]
  },
  {
   "cell_type": "code",
   "execution_count": 15,
   "metadata": {},
   "outputs": [
    {
     "data": {
      "text/plain": [
       "(2203, 2, 128)"
      ]
     },
     "execution_count": 15,
     "metadata": {},
     "output_type": "execute_result"
    }
   ],
   "source": [
    "train_features.shape"
   ]
  },
  {
   "cell_type": "code",
   "execution_count": 16,
   "metadata": {},
   "outputs": [
    {
     "data": {
      "text/plain": [
       "(500, 2, 128)"
      ]
     },
     "execution_count": 16,
     "metadata": {},
     "output_type": "execute_result"
    }
   ],
   "source": [
    "test_features.shape"
   ]
  },
  {
   "cell_type": "code",
   "execution_count": 17,
   "metadata": {
    "collapsed": true
   },
   "outputs": [],
   "source": [
    "svm = windowStructSVM(train_features, train_labels, window = 2, num_classes = 27, object_dimension = 128, ICM_iters = 3)"
   ]
  },
  {
   "cell_type": "code",
   "execution_count": 18,
   "metadata": {
    "collapsed": true
   },
   "outputs": [],
   "source": [
    "problem = svm\n",
    "weights = dlib.solve_structural_svm_problem(problem)"
   ]
  },
  {
   "cell_type": "code",
   "execution_count": 24,
   "metadata": {},
   "outputs": [],
   "source": [
    "train_predictions = svm.predict_labels(weights, train_features, ICM_iters=10)"
   ]
  },
  {
   "cell_type": "code",
   "execution_count": 20,
   "metadata": {
    "collapsed": true
   },
   "outputs": [],
   "source": [
    "test_predictions = svm.predict_labels(weights, test_features, ICM_iters=3)"
   ]
  },
  {
   "cell_type": "code",
   "execution_count": 27,
   "metadata": {},
   "outputs": [
    {
     "data": {
      "text/plain": [
       "0.6629596005447117"
      ]
     },
     "execution_count": 27,
     "metadata": {},
     "output_type": "execute_result"
    }
   ],
   "source": [
    "np.mean([[(ti == pi) for ti,pi in zip(t,p)] for t,p in zip(train_labels, train_predictions)])"
   ]
  },
  {
   "cell_type": "code",
   "execution_count": 29,
   "metadata": {},
   "outputs": [
    {
     "data": {
      "text/plain": [
       "0.224"
      ]
     },
     "execution_count": 29,
     "metadata": {},
     "output_type": "execute_result"
    }
   ],
   "source": [
    "np.mean([[(ti == pi) for ti,pi in zip(t,p)] for t,p in zip(test_labels, test_predictions)])"
   ]
  },
  {
   "cell_type": "code",
   "execution_count": 30,
   "metadata": {},
   "outputs": [
    {
     "data": {
      "text/plain": [
       "0.038461538461538464"
      ]
     },
     "execution_count": 30,
     "metadata": {},
     "output_type": "execute_result"
    }
   ],
   "source": [
    "1/26"
   ]
  }
 ],
 "metadata": {
  "kernelspec": {
   "display_name": "Python [conda root]",
   "language": "python",
   "name": "conda-root-py"
  },
  "language_info": {
   "codemirror_mode": {
    "name": "ipython",
    "version": 3
   },
   "file_extension": ".py",
   "mimetype": "text/x-python",
   "name": "python",
   "nbconvert_exporter": "python",
   "pygments_lexer": "ipython3",
   "version": "3.6.0"
  }
 },
 "nbformat": 4,
 "nbformat_minor": 2
}
