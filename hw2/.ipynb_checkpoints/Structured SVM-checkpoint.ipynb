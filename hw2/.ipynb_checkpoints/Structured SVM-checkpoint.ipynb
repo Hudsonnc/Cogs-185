{
 "cells": [
  {
   "cell_type": "code",
   "execution_count": 26,
   "metadata": {
    "collapsed": true
   },
   "outputs": [],
   "source": [
    "import dlib\n",
    "import numpy as np\n",
    "import ocr_preprocess as ocrp"
   ]
  },
  {
   "cell_type": "code",
   "execution_count": 27,
   "metadata": {
    "collapsed": true
   },
   "outputs": [],
   "source": [
    "class windowStructSVM:\n",
    "    def __init__(self, samples, labels, window, num_classes, object_dimension, C = 1, ICM_iters = 3):\n",
    "        self.samples = samples\n",
    "        self.num_samples = len(samples)\n",
    "\n",
    "        self.labels = labels\n",
    "        self.window = window\n",
    "        self.num_classes = num_classes\n",
    "        self.object_dimension = object_dimension\n",
    "        \n",
    "        self.num_dimensions = num_classes*object_dimension*window + window - 1\n",
    "        \n",
    "        self.C = C\n",
    "        self.ICM_iters = ICM_iters #hyperparameter for number of times to run ICM sampling\n",
    "    \n",
    "    #Make_psi performs neighbor checking\n",
    "    def make_psi(self, x, y):\n",
    "        psi = dlib.vector()\n",
    "        psi.resize(self.num_dimensions)\n",
    "        for i in range(self.window):\n",
    "            idx_obj = i*(self.num_classes*self.object_dimension) + self.object_dimension*y[i]\n",
    "            idx_obj = int(idx_obj)\n",
    "            for j in range(self.object_dimension):\n",
    "                psi[idx_obj+j] = x[i][j]\n",
    "        for i in range(self.window - 1):\n",
    "            idx_class = self.window*self.num_classes*self.object_dimension + i\n",
    "            idx_class = int(idx_class)\n",
    "            psi[idx_class] = 1 if y[i] != y[i+1] else 0\n",
    "        return(psi)\n",
    "    \n",
    "    # Using Iterated Conditional Mode (ICM) for separation oracle\n",
    "    def separation_oracle(self, idx, current_solution):\n",
    "        samp = self.samples[idx]\n",
    "        max_scoring_label = np.random.choice(self.num_classes, self.window) #random initialization for best label\n",
    "        max_error = 0 #max value of target function\n",
    "        for ICM_iter in range(self.ICM_iters):\n",
    "            for entry in range(self.window):\n",
    "                for proposed_label in range(self.num_classes):\n",
    "                    tmp_label = np.copy(max_scoring_label)\n",
    "                    tmp_label[entry] = proposed_label\n",
    "                    psi_y = self.make_psi(samp, tmp_label)\n",
    "                    score_y = dlib.dot(current_solution, psi_y)\n",
    "                    label_dist = sum([1 if u != v else 0 for u, v in zip(self.labels[idx], tmp_label)]) #Hamming distance\n",
    "                    if max_error < score_y + label_dist:\n",
    "                        max_error = score_y + label_dist\n",
    "                        max_scoring_label[entry] = proposed_label\n",
    "        label_dist = sum([1 if u != v else 0 for u, v in zip(self.labels[idx], max_scoring_label)]) #Hamming distance\n",
    "        psi = self.make_psi(samp, max_scoring_label)\n",
    "        return(label_dist, psi)\n",
    "    \n",
    "    def get_truth_joint_feature_vector(self, idx):\n",
    "        return self.make_psi(self.samples[idx], self.labels[idx])\n",
    "    \n",
    "    #Do ICM at test time because of complexity\n",
    "    def predict_label(self, weights, sample, ICM_iters = 3):\n",
    "        max_scoring_label = np.random.choice(self.num_classes, self.window) #random initialization for best label\n",
    "        max_score = 0\n",
    "        for ICM_iter in range(ICM_iters):\n",
    "            for entry in range(self.window):\n",
    "                for proposed_label in range(self.num_classes):\n",
    "                    tmp_label = np.copy(max_scoring_label)\n",
    "                    tmp_label[entry] = proposed_label\n",
    "                    psi_y = self.make_psi(sample, tmp_label)\n",
    "                    score_y = dlib.dot(weights, psi_y)\n",
    "                    if max_score < score_y:\n",
    "                        max_score = score_y\n",
    "                        max_scoring_label[entry] = proposed_label\n",
    "        return(max_scoring_label)\n",
    "    \n",
    "    def predict_labels(self, weights, samples, ICM_iters = 3):\n",
    "        return(np.array([self.predict_label(weights, sample, ICM_iters = ICM_iters) for sample in samples]))"
   ]
  },
  {
   "cell_type": "code",
   "execution_count": 28,
   "metadata": {
    "collapsed": true
   },
   "outputs": [],
   "source": [
    "window = 2\n",
    "\n",
    "train_features, train_labels = ocrp.loadWindows(0, 4000, window)\n",
    "test_features, test_labels = ocrp.loadWindows(4000, 5000, window)"
   ]
  },
  {
   "cell_type": "code",
   "execution_count": 29,
   "metadata": {
    "collapsed": true
   },
   "outputs": [],
   "source": [
    "svm = windowStructSVM(train_features, train_labels, window = window, num_classes = 27, object_dimension = 128, ICM_iters = 3)\n",
    "problem = svm\n",
    "weights = dlib.solve_structural_svm_problem(problem)"
   ]
  },
  {
   "cell_type": "code",
   "execution_count": 30,
   "metadata": {
    "collapsed": true
   },
   "outputs": [],
   "source": [
    "train_predictions = svm.predict_labels(weights, train_features, ICM_iters=10)"
   ]
  },
  {
   "cell_type": "code",
   "execution_count": 31,
   "metadata": {
    "collapsed": true
   },
   "outputs": [],
   "source": [
    "test_predictions = svm.predict_labels(weights, test_features, ICM_iters=10)"
   ]
  },
  {
   "cell_type": "code",
   "execution_count": 32,
   "metadata": {},
   "outputs": [
    {
     "name": "stdout",
     "output_type": "stream",
     "text": [
      "Window: 2\n",
      "Train acc: 0.667519\n"
     ]
    }
   ],
   "source": [
    "train_acc = np.mean([[(ti == pi) for ti,pi in zip(t,p)] for t,p in zip(train_labels, train_predictions)])\n",
    "print(\"Window: %s\" %(window))\n",
    "print(\"Train acc: %f\" %(train_acc))"
   ]
  },
  {
   "cell_type": "code",
   "execution_count": 33,
   "metadata": {},
   "outputs": [
    {
     "name": "stdout",
     "output_type": "stream",
     "text": [
      "Window: 2\n",
      "Train acc: 0.032680\n"
     ]
    }
   ],
   "source": [
    "train_acc = np.mean([(t==p).all() for t,p in zip(train_labels, train_predictions)])\n",
    "print(\"Window: %s\" %(window))\n",
    "print(\"Train acc: %f\" %(train_acc))"
   ]
  },
  {
   "cell_type": "code",
   "execution_count": 34,
   "metadata": {},
   "outputs": [
    {
     "name": "stdout",
     "output_type": "stream",
     "text": [
      "Window: 2\n",
      "Test acc: 0.373388\n"
     ]
    }
   ],
   "source": [
    "test_acc = np.mean([[(ti == pi) for ti,pi in zip(t,p)] for t,p in zip(test_labels, test_predictions)])\n",
    "print(\"Window: %s\" %(window))\n",
    "print(\"Test acc: %f\" %(test_acc))"
   ]
  },
  {
   "cell_type": "code",
   "execution_count": 35,
   "metadata": {
    "scrolled": true
   },
   "outputs": [
    {
     "name": "stdout",
     "output_type": "stream",
     "text": [
      "Window: 2\n",
      "Test acc: 0.000000\n"
     ]
    }
   ],
   "source": [
    "test_acc = np.mean([(t==p).all() for t,p in zip(test_labels, test_predictions)])\n",
    "print(\"Window: %s\" %(window))\n",
    "print(\"Test acc: %f\" %(test_acc))"
   ]
  },
  {
   "cell_type": "code",
   "execution_count": 36,
   "metadata": {
    "collapsed": true
   },
   "outputs": [],
   "source": [
    "window = 3\n",
    "\n",
    "train_features, train_labels = ocrp.loadWindows(0, 4000, window)\n",
    "test_features, test_labels = ocrp.loadWindows(4000, 5000, window)"
   ]
  },
  {
   "cell_type": "code",
   "execution_count": 37,
   "metadata": {
    "collapsed": true
   },
   "outputs": [],
   "source": [
    "svm = windowStructSVM(train_features, train_labels, window = window, num_classes = 27, object_dimension = 128, ICM_iters = 3)\n",
    "problem = svm\n",
    "weights = dlib.solve_structural_svm_problem(problem)"
   ]
  },
  {
   "cell_type": "code",
   "execution_count": 38,
   "metadata": {
    "collapsed": true
   },
   "outputs": [],
   "source": [
    "train_predictions = svm.predict_labels(weights, train_features, ICM_iters=10)"
   ]
  },
  {
   "cell_type": "code",
   "execution_count": 39,
   "metadata": {
    "collapsed": true
   },
   "outputs": [],
   "source": [
    "test_predictions = svm.predict_labels(weights, test_features, ICM_iters=10)"
   ]
  },
  {
   "cell_type": "code",
   "execution_count": 40,
   "metadata": {},
   "outputs": [
    {
     "name": "stdout",
     "output_type": "stream",
     "text": [
      "Window: 3\n",
      "Train acc: 0.674567\n"
     ]
    }
   ],
   "source": [
    "train_acc = np.mean([[(ti == pi) for ti,pi in zip(t,p)] for t,p in zip(train_labels, train_predictions)])\n",
    "print(\"Window: %s\" %(window))\n",
    "print(\"Train acc: %f\" %(train_acc))"
   ]
  },
  {
   "cell_type": "code",
   "execution_count": 41,
   "metadata": {},
   "outputs": [
    {
     "name": "stdout",
     "output_type": "stream",
     "text": [
      "Window: 3\n",
      "Train acc: 0.000000\n"
     ]
    }
   ],
   "source": [
    "train_acc = np.mean([(t==p).all() for t,p in zip(train_labels, train_predictions)])\n",
    "print(\"Window: %s\" %(window))\n",
    "print(\"Train acc: %f\" %(train_acc))"
   ]
  },
  {
   "cell_type": "code",
   "execution_count": 42,
   "metadata": {},
   "outputs": [
    {
     "name": "stdout",
     "output_type": "stream",
     "text": [
      "Window: 3\n",
      "Test acc: 0.368173\n"
     ]
    }
   ],
   "source": [
    "test_acc = np.mean([[(ti == pi) for ti,pi in zip(t,p)] for t,p in zip(test_labels, test_predictions)])\n",
    "print(\"Window: %s\" %(window))\n",
    "print(\"Test acc: %f\" %(test_acc))"
   ]
  },
  {
   "cell_type": "code",
   "execution_count": 45,
   "metadata": {},
   "outputs": [
    {
     "name": "stdout",
     "output_type": "stream",
     "text": [
      "Window: 3\n",
      "Test acc: 0.000000\n"
     ]
    }
   ],
   "source": [
    "test_acc = np.mean([(t==p).all() for t,p in zip(test_labels, test_predictions)])\n",
    "print(\"Window: %s\" %(window))\n",
    "print(\"Test acc: %f\" %(test_acc))"
   ]
  },
  {
   "cell_type": "code",
   "execution_count": 47,
   "metadata": {},
   "outputs": [
    {
     "data": {
      "text/plain": [
       "array([ 2,  0, 21])"
      ]
     },
     "execution_count": 47,
     "metadata": {},
     "output_type": "execute_result"
    }
   ],
   "source": [
    "test_predictions[0]"
   ]
  },
  {
   "cell_type": "code",
   "execution_count": 46,
   "metadata": {},
   "outputs": [
    {
     "data": {
      "text/plain": [
       "array([[ 11.],\n",
       "       [ 24.],\n",
       "       [ 26.]])"
      ]
     },
     "execution_count": 46,
     "metadata": {},
     "output_type": "execute_result"
    }
   ],
   "source": [
    "test_labels[0]"
   ]
  }
 ],
 "metadata": {
  "kernelspec": {
   "display_name": "Python [conda root]",
   "language": "python",
   "name": "conda-root-py"
  },
  "language_info": {
   "codemirror_mode": {
    "name": "ipython",
    "version": 3
   },
   "file_extension": ".py",
   "mimetype": "text/x-python",
   "name": "python",
   "nbconvert_exporter": "python",
   "pygments_lexer": "ipython3",
   "version": "3.6.0"
  }
 },
 "nbformat": 4,
 "nbformat_minor": 2
}
