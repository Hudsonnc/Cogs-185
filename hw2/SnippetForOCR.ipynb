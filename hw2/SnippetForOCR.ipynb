{
 "cells": [
  {
   "cell_type": "code",
   "execution_count": 1,
   "metadata": {
    "collapsed": true
   },
   "outputs": [],
   "source": [
    "import re\n",
    "import numpy as np\n",
    "import matplotlib.pyplot as plt\n",
    "from matplotlib.pyplot import imshow\n",
    "%matplotlib inline"
   ]
  },
  {
   "cell_type": "code",
   "execution_count": 2,
   "metadata": {
    "collapsed": true
   },
   "outputs": [],
   "source": [
    "def atoi(a):\n",
    "    return int(ord(a)-ord('a'))\n",
    "def itoa(i):\n",
    "    return chr(i+ord('a'))\n",
    "\n",
    "def iors(s):\n",
    "    try:\n",
    "        return int(s)\n",
    "    except ValueError: # if it is a string, return a string\n",
    "        return s"
   ]
  },
  {
   "cell_type": "code",
   "execution_count": 15,
   "metadata": {},
   "outputs": [],
   "source": [
    "def read_OCR(filename, n_examples, n_features):\n",
    "    F = open(filename)\n",
    "    dataset = {}\n",
    "    dataset['ids'] = np.zeros(n_examples, dtype=int)\n",
    "    dataset['labels'] = np.zeros(n_examples,dtype=int)\n",
    "    dataset['next_ids'] = np.zeros(n_examples,dtype=int)\n",
    "    dataset['word_ids'] = np.zeros(n_examples,dtype=int)\n",
    "    dataset['positions'] = np.zeros(n_examples,dtype=int)\n",
    "    dataset['folds'] = np.zeros(n_examples,dtype=int)\n",
    "    dataset['features'] = np.zeros([n_examples,n_features])\n",
    "    \n",
    "    i = 0\n",
    "    for str_line in F.readlines():\n",
    "        line0 = list(map(iors, filter(None, re.split('\\t', str_line.strip()))))\n",
    "        \n",
    "        dataset['ids'][i] = line0.pop(0)\n",
    "        dataset['labels'][i] = atoi(line0.pop(0))\n",
    "        dataset['next_ids'][i] = line0.pop(0)\n",
    "        dataset['word_ids'][i] = line0.pop(0)\n",
    "        dataset['positions'][i] = line0.pop(0)\n",
    "        dataset['folds'][i] = line0.pop(0)\n",
    "        if len(line0) != 128:  # Sanity check of the length\n",
    "            print(len(line0))\n",
    "\n",
    "        for j, v in enumerate(line0):\n",
    "            dataset['features'][i][j] = v\n",
    "        i += 1\n",
    "        if i == n_examples:\n",
    "            break\n",
    "            \n",
    "    return dataset"
   ]
  },
  {
   "cell_type": "code",
   "execution_count": 16,
   "metadata": {},
   "outputs": [],
   "source": [
    "dataset1 = read_OCR('letter.data', 5000, 128)"
   ]
  },
  {
   "cell_type": "code",
   "execution_count": 19,
   "metadata": {},
   "outputs": [
    {
     "name": "stdout",
     "output_type": "stream",
     "text": [
      "The first 10 ids: [ 1  2  3  4  5  6  7  8  9 10]\n",
      "The shape of features: (5000, 128)\n",
      "ids[0]= 1\n",
      "labels[0]= 14\n",
      "The letter is  o\n",
      "next_ids[0]= 2\n"
     ]
    },
    {
     "data": {
      "text/plain": [
       "<matplotlib.image.AxesImage at 0x7f690c7997b8>"
      ]
     },
     "execution_count": 19,
     "metadata": {},
     "output_type": "execute_result"
    },
    {
     "data": {
      "image/png": "[encoded data removed]",
      "text/plain": [
       "<matplotlib.figure.Figure at 0x7f690db65d30>"
      ]
     },
     "metadata": {},
     "output_type": "display_data"
    }
   ],
   "source": [
    "print(\"The first 10 ids:\",dataset1['ids'][:10])\n",
    "print(\"The shape of features:\", dataset1['features'].shape)\n",
    "\n",
    "print(\"ids[0]=\",dataset1['ids'][0])\n",
    "print(\"labels[0]=\", dataset1['labels'][0])\n",
    "print(\"The letter is \", itoa(dataset1['labels'][0]))\n",
    "print(\"next_ids[0]=\",dataset1['next_ids'][0])\n",
    "# print \"The feature of the first example:\",dataset1['features'][0]\n",
    "# Show the matrix into an image\n",
    "imshow(dataset1['features'][0].reshape(16,8), cmap='gray')\n"
   ]
  },
  {
   "cell_type": "code",
   "execution_count": 22,
   "metadata": {},
   "outputs": [
    {
     "name": "stdout",
     "output_type": "stream",
     "text": [
      "omanding_mmanding_mmanding_mmanding_mmanding_mmand\n"
     ]
    },
    {
     "data": {
      "image/png": "[encoded data removed]",
      "text/plain": [
       "<matplotlib.figure.Figure at 0x7f690d5a0dd8>"
      ]
     },
     "metadata": {},
     "output_type": "display_data"
    }
   ],
   "source": [
    "string1 = itoa(dataset1['labels'][0])\n",
    "\n",
    "plt.figure()\n",
    "plt.subplot(10,5,1)\n",
    "imshow(dataset1['features'][0].reshape(16,8), cmap='gray')\n",
    "id1 = dataset1['ids'][0]\n",
    "next_id1 = dataset1['next_ids'][0]\n",
    "\n",
    "for i in range(1,50):\n",
    "    id1 = dataset1['ids'][next_id1-1]\n",
    "    next_id1 = dataset1['next_ids'][next_id1-1]\n",
    "\n",
    "    #print \"id1\", id1, \"next_id1\",  next_id1\n",
    "    if next_id1 == -1: # Skip the next_id pointing to nothing\n",
    "        feature1 = np.zeros((16,8),dtype=int)\n",
    "        label1 = '_'\n",
    "        string1 += label1\n",
    "        plt.subplot(10,5,i+1)\n",
    "        imshow(feature1, cmap='gray')\n",
    "        next_id1 = id1+1\n",
    "        continue\n",
    "    \n",
    "    string1 += itoa(dataset1['labels'][next_id1-1])\n",
    "\n",
    "    plt.subplot(10,5,i+1)\n",
    "    imshow(dataset1['features'][next_id1-1].reshape(16,8), cmap='gray')\n",
    "\n",
    "print(string1)"
   ]
  },
  {
   "cell_type": "code",
   "execution_count": null,
   "metadata": {
    "collapsed": true
   },
   "outputs": [],
   "source": []
  }
 ],
 "metadata": {
  "kernelspec": {
   "display_name": "Python [conda root]",
   "language": "python",
   "name": "conda-root-py"
  },
  "language_info": {
   "codemirror_mode": {
    "name": "ipython",
    "version": 3
   },
   "file_extension": ".py",
   "mimetype": "text/x-python",
   "name": "python",
   "nbconvert_exporter": "python",
   "pygments_lexer": "ipython3",
   "version": "3.6.0"
  }
 },
 "nbformat": 4,
 "nbformat_minor": 2
}
