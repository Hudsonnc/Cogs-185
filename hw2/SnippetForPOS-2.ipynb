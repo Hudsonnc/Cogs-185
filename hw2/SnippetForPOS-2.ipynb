{
 "cells": [
  {
   "cell_type": "code",
   "execution_count": 1,
   "metadata": {},
   "outputs": [],
   "source": [
    "import re\n",
    "import numpy as np\n",
    "import matplotlib.pyplot as plt\n",
    "from matplotlib.pyplot import imshow\n",
    "%matplotlib inline\n",
    "import csv\n",
    "from sklearn.preprocessing import LabelEncoder\n",
    "from sklearn.preprocessing import OneHotEncoder\n",
    "label_encoder = LabelEncoder()\n",
    "onehot_encoder= OneHotEncoder(sparse=False)"
   ]
  },
  {
   "cell_type": "code",
   "execution_count": 4,
   "metadata": {},
   "outputs": [],
   "source": [
    "def iors(s):\n",
    "    try:\n",
    "        return int(s)\n",
    "    except ValueError: # if it is a string, return a string\n",
    "        return s"
   ]
  },
  {
   "cell_type": "code",
   "execution_count": 5,
   "metadata": {},
   "outputs": [],
   "source": [
    "def read_POS(filename, n_examples, n_features):\n",
    "    dataset={}\n",
    "    dataset['sentence_ids']=np.zeros(n_examples, dtype=int)\n",
    "    dataset['token_ids'] = np.zeros(n_examples, dtype=int)\n",
    "    dataset['tokenIdDic'] = {}\n",
    "    dataset['pos'] = [] # It is another dictionary\n",
    "    dataset['posDic'] = {}\n",
    "    \n",
    "    \n",
    "    with open(filename, 'rb') as csvfile:\n",
    "        csvreader = csv.reader(csvfile, delimiter=',')\n",
    "        csvreader.next() # skip the first line sentence_id, token_id, pos\n",
    "        \n",
    "        i =0\n",
    "        for str_line in csvreader:\n",
    "            line0 = map(iors, str_line)\n",
    "\n",
    "            dataset['pos'].append(line0.pop())\n",
    "            dataset['token_ids'][i] = line0.pop()\n",
    "            dataset['sentence_ids'][i] = line0.pop()\n",
    "\n",
    "            if dataset['token_ids'][i] in dataset['tokenIdDic']:\n",
    "                dataset['tokenIdDic'][dataset['token_ids'][i]] += 1\n",
    "            else:\n",
    "                dataset['tokenIdDic'][dataset['token_ids'][i]] = 1\n",
    "\n",
    "            if dataset['pos'][-1] in dataset['posDic']:\n",
    "                dataset['posDic'][dataset['pos'][-1]] += 1\n",
    "            else:\n",
    "                dataset['posDic'][dataset['pos'][-1]] = 1\n",
    "\n",
    "            #print ' '.join(row)\n",
    "            i+=1\n",
    "            if i == n_examples:\n",
    "                break\n",
    "        \n",
    "        dataset['labels'] = integer_encoded = label_encoder.fit_transform(dataset['pos'])\n",
    "        dataset['features'] = onehot_encoder.fit_transform(dataset['token_ids'].reshape(-1,1))\n",
    "    \n",
    "    csvfile.close()\n",
    "    return dataset\n"
   ]
  },
  {
   "cell_type": "code",
   "execution_count": 6,
   "metadata": {},
   "outputs": [],
   "source": [
    "dataset2 = read_POS('POSdataset/pos_tags.csv', 10, 1)"
   ]
  },
  {
   "cell_type": "code",
   "execution_count": 7,
   "metadata": {},
   "outputs": [
    {
     "name": "stdout",
     "output_type": "stream",
     "text": [
      "['NNP', 'VBZ', 'DT', 'NN', 'IN', 'NN', 'IN', 'NN', 'NNP', 'NNP']\n"
     ]
    }
   ],
   "source": [
    "print dataset2['pos'][:10]"
   ]
  },
  {
   "cell_type": "code",
   "execution_count": 8,
   "metadata": {},
   "outputs": [
    {
     "name": "stdout",
     "output_type": "stream",
     "text": [
      "[3 4 0 2 1 2 1 2 3 3]\n",
      "['NNP' 'VBZ' 'DT' 'NN' 'IN' 'NN' 'IN' 'NN' 'NNP' 'NNP']\n"
     ]
    },
    {
     "name": "stderr",
     "output_type": "stream",
     "text": [
      "/home/james/anaconda2/lib/python2.7/site-packages/sklearn/preprocessing/label.py:151: DeprecationWarning: The truth value of an empty array is ambiguous. Returning False, but in future this will result in an error. Use `array.size > 0` to check that an array is not empty.\n",
      "  if diff:\n"
     ]
    }
   ],
   "source": [
    "print dataset2['labels'][:10]\n",
    "print label_encoder.inverse_transform(dataset2['labels'][:10])"
   ]
  },
  {
   "cell_type": "code",
   "execution_count": 9,
   "metadata": {},
   "outputs": [
    {
     "name": "stdout",
     "output_type": "stream",
     "text": [
      "[[1. 0. 0. 0. 0. 0. 0. 0. 0.]\n",
      " [0. 1. 0. 0. 0. 0. 0. 0. 0.]\n",
      " [0. 0. 1. 0. 0. 0. 0. 0. 0.]\n",
      " [0. 0. 0. 1. 0. 0. 0. 0. 0.]\n",
      " [0. 0. 0. 0. 1. 0. 0. 0. 0.]\n",
      " [0. 0. 0. 0. 0. 1. 0. 0. 0.]\n",
      " [0. 0. 0. 0. 0. 0. 1. 0. 0.]\n",
      " [0. 0. 0. 0. 0. 0. 0. 1. 0.]\n",
      " [0. 0. 0. 0. 0. 0. 0. 0. 1.]\n",
      " [0. 0. 1. 0. 0. 0. 0. 0. 0.]]\n",
      "8\n",
      "0\n",
      "{0: 1, 1: 1, 2: 2, 3: 1, 4: 1, 5: 1, 6: 1, 7: 1, 8: 1}\n",
      "\n"
     ]
    }
   ],
   "source": [
    "print dataset2['features']\n",
    "print max(dataset2['token_ids'])\n",
    "print min(dataset2['token_ids'])\n",
    "print dataset2['tokenIdDic']\n",
    "print"
   ]
  },
  {
   "cell_type": "code",
   "execution_count": 122,
   "metadata": {},
   "outputs": [
    {
     "name": "stdout",
     "output_type": "stream",
     "text": [
      "{'VBZ': 1, 'DT': 1, 'IN': 2, 'NN': 3, 'NNP': 3}\n"
     ]
    }
   ],
   "source": [
    "print dataset2['posDic']"
   ]
  },
  {
   "cell_type": "code",
   "execution_count": null,
   "metadata": {},
   "outputs": [],
   "source": []
  }
 ],
 "metadata": {
  "kernelspec": {
   "display_name": "Python 2",
   "language": "python",
   "name": "python2"
  },
  "language_info": {
   "codemirror_mode": {
    "name": "ipython",
    "version": 2
   },
   "file_extension": ".py",
   "mimetype": "text/x-python",
   "name": "python",
   "nbconvert_exporter": "python",
   "pygments_lexer": "ipython2",
   "version": "2.7.14"
  }
 },
 "nbformat": 4,
 "nbformat_minor": 2
}
