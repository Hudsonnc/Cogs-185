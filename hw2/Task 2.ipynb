{
 "cells": [
  {
   "cell_type": "code",
   "execution_count": 1,
   "metadata": {
    "collapsed": true
   },
   "outputs": [],
   "source": [
    "import numpy as np"
   ]
  },
  {
   "cell_type": "code",
   "execution_count": 6,
   "metadata": {},
   "outputs": [],
   "source": [
    "x = np.array([\n",
    "    [[-2.0, -1.1], [0.0, -1.3], [3.1, 0.3], [3.6, -1.1]],\n",
    "    [[-1.0, 0.2], [-0.9, -1.9], [2.6, 1.5], [-1.3, -1.3]],\n",
    "    [[1.0, 0.4], [-1.5, -0.3], [3.0, -0.2], [-0.3, -0.2]],\n",
    "    [[0.4, -1.2], [1.0, -1.2], [2.0, 0.0], [1.2, -0.9]]\n",
    "])\n",
    "\n",
    "a = 0\n",
    "t = 1\n",
    "c = 2\n",
    "g = 3"
   ]
  },
  {
   "cell_type": "code",
   "execution_count": 7,
   "metadata": {
    "collapsed": true
   },
   "outputs": [],
   "source": [
    "y = np.array([\n",
    "    [a, t, c, g],\n",
    "    [a, c, a, a],\n",
    "    [g, a, a, a],\n",
    "    [a, t, c, g]\n",
    "])"
   ]
  },
  {
   "cell_type": "code",
   "execution_count": 3,
   "metadata": {},
   "outputs": [
    {
     "data": {
      "text/plain": [
       "array([[[-2. , -1.1],\n",
       "        [ 0. , -1.3],\n",
       "        [ 3.1,  0.3],\n",
       "        [ 3.6, -1.1]],\n",
       "\n",
       "       [[-1. ,  0.2],\n",
       "        [-0.9, -1.9],\n",
       "        [ 2.6,  1.5],\n",
       "        [-1.3, -1.3]],\n",
       "\n",
       "       [[ 1. ,  0.4],\n",
       "        [-1.5, -0.3],\n",
       "        [ 3. , -0.2],\n",
       "        [-0.3, -0.2]],\n",
       "\n",
       "       [[ 0.4, -1.2],\n",
       "        [ 1. , -1.2],\n",
       "        [ 2. ,  0. ],\n",
       "        [ 1.2, -0.9]]])"
      ]
     },
     "execution_count": 3,
     "metadata": {},
     "output_type": "execute_result"
    }
   ],
   "source": [
    "x"
   ]
  },
  {
   "cell_type": "code",
   "execution_count": 8,
   "metadata": {},
   "outputs": [
    {
     "data": {
      "text/plain": [
       "array([[0, 1, 2, 3],\n",
       "       [0, 2, 0, 0],\n",
       "       [3, 0, 0, 0],\n",
       "       [0, 1, 2, 3]])"
      ]
     },
     "execution_count": 8,
     "metadata": {},
     "output_type": "execute_result"
    }
   ],
   "source": [
    "y"
   ]
  },
  {
   "cell_type": "code",
   "execution_count": 19,
   "metadata": {
    "collapsed": true
   },
   "outputs": [],
   "source": [
    "feature_len = x.shape[2]\n",
    "num_classes = len(np.unique(y))\n",
    "window = x.shape[1]\n",
    "def phi_oh(xi, yi):\n",
    "    phi = np.zeros(feature_len*num_classes*window + num_classes*window)\n",
    "    for w in range(window):\n",
    "        j = (feature_len*num_classes + num_classes)*w\n",
    "        phi[(j+feature_len*yi[w]):(j+feature_len*yi[w] + feature_len)] = xi[w]\n",
    "        phi[j+feature_len*num_classes+yi[w]] = 1\n",
    "    return phi"
   ]
  },
  {
   "cell_type": "code",
   "execution_count": 23,
   "metadata": {
    "scrolled": false
   },
   "outputs": [
    {
     "name": "stdout",
     "output_type": "stream",
     "text": [
      "[-2.  -1.1  0.   0.   0.   0.   0.   0.   1.   0.   0.   0.   0.   0.   0.\n",
      " -1.3  0.   0.   0.   0.   0.   1.   0.   0.   0.   0.   0.   0.   3.1  0.3\n",
      "  0.   0.   0.   0.   1.   0.   0.   0.   0.   0.   0.   0.   3.6 -1.1  0.\n",
      "  0.   0.   1. ]\n",
      "[-1.   0.2  0.   0.   0.   0.   0.   0.   1.   0.   0.   0.   0.   0.   0.\n",
      "  0.  -0.9 -1.9  0.   0.   0.   0.   1.   0.   2.6  1.5  0.   0.   0.   0.\n",
      "  0.   0.   1.   0.   0.   0.  -1.3 -1.3  0.   0.   0.   0.   0.   0.   1.\n",
      "  0.   0.   0. ]\n",
      "[ 0.   0.   0.   0.   0.   0.   1.   0.4  0.   0.   0.   1.  -1.5 -0.3  0.\n",
      "  0.   0.   0.   0.   0.   1.   0.   0.   0.   3.  -0.2  0.   0.   0.   0.\n",
      "  0.   0.   1.   0.   0.   0.  -0.3 -0.2  0.   0.   0.   0.   0.   0.   1.\n",
      "  0.   0.   0. ]\n",
      "[ 0.4 -1.2  0.   0.   0.   0.   0.   0.   1.   0.   0.   0.   0.   0.   1.\n",
      " -1.2  0.   0.   0.   0.   0.   1.   0.   0.   0.   0.   0.   0.   2.   0.\n",
      "  0.   0.   0.   0.   1.   0.   0.   0.   0.   0.   0.   0.   1.2 -0.9  0.\n",
      "  0.   0.   1. ]\n"
     ]
    }
   ],
   "source": [
    "for xi, yi in zip(x, y):\n",
    "    print(phi_oh(xi, yi))"
   ]
  },
  {
   "cell_type": "code",
   "execution_count": 39,
   "metadata": {
    "collapsed": true
   },
   "outputs": [],
   "source": [
    "def phi_ch(xi, yi):\n",
    "    phi = np.zeros(feature_len*num_classes*window + num_classes-1)\n",
    "    for w in range(window):\n",
    "        j = feature_len*num_classes*w\n",
    "        phi[(j+feature_len*yi[w]):(j+feature_len*yi[w] + feature_len)] = xi[w]\n",
    "        if w < window-1:\n",
    "            phi[window*feature_len*num_classes+w] = 1 if yi[w] != yi[w+1] else 0\n",
    "    return phi"
   ]
  },
  {
   "cell_type": "code",
   "execution_count": 42,
   "metadata": {
    "scrolled": true
   },
   "outputs": [
    {
     "name": "stdout",
     "output_type": "stream",
     "text": [
      "[-2.  -1.1  0.   0.   0.   0.   0.   0.   0.   0.   0.  -1.3  0.   0.   0.\n",
      "  0.   0.   0.   0.   0.   3.1  0.3  0.   0.   0.   0.   0.   0.   0.   0.\n",
      "  3.6 -1.1  1.   1.   1. ]\n",
      "[-1.   0.2  0.   0.   0.   0.   0.   0.   0.   0.   0.   0.  -0.9 -1.9  0.\n",
      "  0.   2.6  1.5  0.   0.   0.   0.   0.   0.  -1.3 -1.3  0.   0.   0.   0.\n",
      "  0.   0.   1.   1.   0. ]\n",
      "[ 0.   0.   0.   0.   0.   0.   1.   0.4 -1.5 -0.3  0.   0.   0.   0.   0.\n",
      "  0.   3.  -0.2  0.   0.   0.   0.   0.   0.  -0.3 -0.2  0.   0.   0.   0.\n",
      "  0.   0.   1.   0.   0. ]\n",
      "[ 0.4 -1.2  0.   0.   0.   0.   0.   0.   0.   0.   1.  -1.2  0.   0.   0.\n",
      "  0.   0.   0.   0.   0.   2.   0.   0.   0.   0.   0.   0.   0.   0.   0.\n",
      "  1.2 -0.9  1.   1.   1. ]\n"
     ]
    }
   ],
   "source": [
    "for xi, yi in zip(x, y):\n",
    "    print(phi_ch(xi, yi))"
   ]
  }
 ],
 "metadata": {
  "kernelspec": {
   "display_name": "Python [conda root]",
   "language": "python",
   "name": "conda-root-py"
  },
  "language_info": {
   "codemirror_mode": {
    "name": "ipython",
    "version": 3
   },
   "file_extension": ".py",
   "mimetype": "text/x-python",
   "name": "python",
   "nbconvert_exporter": "python",
   "pygments_lexer": "ipython3",
   "version": "3.6.0"
  }
 },
 "nbformat": 4,
 "nbformat_minor": 2
}
