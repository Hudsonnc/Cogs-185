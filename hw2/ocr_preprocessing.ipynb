{
 "cells": [
  {
   "cell_type": "code",
   "execution_count": 2,
   "metadata": {
    "collapsed": true
   },
   "outputs": [],
   "source": [
    "import re\n",
    "import numpy as np\n",
    "import matplotlib.pyplot as plt\n",
    "from matplotlib.pyplot import imshow\n",
    "%matplotlib inline"
   ]
  },
  {
   "cell_type": "code",
   "execution_count": 302,
   "metadata": {
    "collapsed": true
   },
   "outputs": [],
   "source": [
    "N_EXAMPLES = 5000\n",
    "N_FEATURES = 128"
   ]
  },
  {
   "cell_type": "code",
   "execution_count": 3,
   "metadata": {
    "collapsed": true
   },
   "outputs": [],
   "source": [
    "def atoi(a):\n",
    "    return int(ord(a)-ord('a'))\n",
    "def itoa(i):\n",
    "    return chr(i+ord('a'))\n",
    "\n",
    "def iors(s):\n",
    "    try:\n",
    "        return int(s)\n",
    "    except ValueError: # if it is a string, return a string\n",
    "        return s"
   ]
  },
  {
   "cell_type": "code",
   "execution_count": 4,
   "metadata": {
    "collapsed": true
   },
   "outputs": [],
   "source": [
    "def read_OCR(filename, n_examples, n_features):\n",
    "    F = open(filename)\n",
    "    dataset = {}\n",
    "    dataset['ids'] = np.zeros(n_examples, dtype=int)\n",
    "    dataset['labels'] = np.zeros(n_examples,dtype=int)\n",
    "    dataset['next_ids'] = np.zeros(n_examples,dtype=int)\n",
    "    dataset['word_ids'] = np.zeros(n_examples,dtype=int)\n",
    "    dataset['positions'] = np.zeros(n_examples,dtype=int)\n",
    "    dataset['folds'] = np.zeros(n_examples,dtype=int)\n",
    "    dataset['features'] = np.zeros([n_examples,n_features])\n",
    "    \n",
    "    i = 0\n",
    "    for str_line in F.readlines():\n",
    "        line0 = list(map(iors, filter(None, re.split('\\t', str_line.strip()))))\n",
    "        \n",
    "        dataset['ids'][i] = line0.pop(0)\n",
    "        dataset['labels'][i] = atoi(line0.pop(0))\n",
    "        dataset['next_ids'][i] = line0.pop(0)\n",
    "        dataset['word_ids'][i] = line0.pop(0)\n",
    "        dataset['positions'][i] = line0.pop(0)\n",
    "        dataset['folds'][i] = line0.pop(0)\n",
    "        if len(line0) != 128:  # Sanity check of the length\n",
    "            print(len(line0))\n",
    "\n",
    "        for j, v in enumerate(line0):\n",
    "            dataset['features'][i][j] = v\n",
    "        i += 1\n",
    "        if i == n_examples:\n",
    "            break\n",
    "            \n",
    "    return dataset"
   ]
  },
  {
   "cell_type": "code",
   "execution_count": 5,
   "metadata": {},
   "outputs": [],
   "source": [
    "ocr = read_OCR('letter.data')"
   ]
  },
  {
   "cell_type": "code",
   "execution_count": 255,
   "metadata": {},
   "outputs": [],
   "source": [
    "def chop_idxs(ocr, window = 2, start = 0, stop = None):\n",
    "    if stop is None: stop = len(ocr['ids'])\n",
    "    chops = []\n",
    "    chop = []\n",
    "    i = start\n",
    "    while i < stop:\n",
    "        nextid = ocr['next_ids'][i]\n",
    "        if len(chop) < window:\n",
    "            chop.append(i)\n",
    "            if nextid == -1 or i == stop-1:\n",
    "                while len(chop) < window:\n",
    "                    chop.append('_')\n",
    "                if i == stop-1:\n",
    "                    chops.append(chop)\n",
    "            i = i+1\n",
    "        else:\n",
    "            chops.append(chop)\n",
    "            chop = []\n",
    "    return(np.array(chops))"
   ]
  },
  {
   "cell_type": "code",
   "execution_count": 283,
   "metadata": {
    "collapsed": true
   },
   "outputs": [],
   "source": [
    "chops = chop_idxs(ocr, window = 4, start = 0, stop = 18)"
   ]
  },
  {
   "cell_type": "code",
   "execution_count": 297,
   "metadata": {},
   "outputs": [],
   "source": [
    "def chops_to_str(ocr, chops):\n",
    "    return np.array([[itoa(ocr['labels'][int(idx)]) if idx != '_' else '_' for idx in chop] for chop in chops])"
   ]
  },
  {
   "cell_type": "code",
   "execution_count": 298,
   "metadata": {},
   "outputs": [
    {
     "data": {
      "text/plain": [
       "array([['o', 'm', 'm', 'a'],\n",
       "       ['n', 'd', 'i', 'n'],\n",
       "       ['g', '_', '_', '_'],\n",
       "       ['o', 'm', 'm', 'a'],\n",
       "       ['n', 'd', 'i', 'n'],\n",
       "       ['g', '_', '_', '_']],\n",
       "      dtype='<U1')"
      ]
     },
     "execution_count": 298,
     "metadata": {},
     "output_type": "execute_result"
    }
   ],
   "source": [
    "chops_to_str(ocr, chops)"
   ]
  },
  {
   "cell_type": "code",
   "execution_count": 295,
   "metadata": {
    "collapsed": true
   },
   "outputs": [],
   "source": [
    "def chops_to_labels(ocr, chops):\n",
    "    return np.array([[ocr['labels'][int(idx)] if idx != '_' else 26 for idx in chop] for chop in chops])"
   ]
  },
  {
   "cell_type": "code",
   "execution_count": 296,
   "metadata": {},
   "outputs": [
    {
     "data": {
      "text/plain": [
       "array([[14, 12, 12,  0],\n",
       "       [13,  3,  8, 13],\n",
       "       [ 6, 26, 26, 26],\n",
       "       [14, 12, 12,  0],\n",
       "       [13,  3,  8, 13],\n",
       "       [ 6, 26, 26, 26]])"
      ]
     },
     "execution_count": 296,
     "metadata": {},
     "output_type": "execute_result"
    }
   ],
   "source": [
    "chops_to_labels(ocr, chops)"
   ]
  },
  {
   "cell_type": "code",
   "execution_count": 299,
   "metadata": {
    "collapsed": true
   },
   "outputs": [],
   "source": [
    "def chops_to_features(ocr, chops):\n",
    "    return np.array([[ocr['features'][int(idx)] if idx != '_' else np.zeros(N_FEATURES) for idx in chop] for chop in chops])"
   ]
  },
  {
   "cell_type": "code",
   "execution_count": 303,
   "metadata": {},
   "outputs": [],
   "source": [
    "features = chops_to_features(ocr, chops)"
   ]
  },
  {
   "cell_type": "code",
   "execution_count": 304,
   "metadata": {},
   "outputs": [
    {
     "data": {
      "text/plain": [
       "(6, 4, 128)"
      ]
     },
     "execution_count": 304,
     "metadata": {},
     "output_type": "execute_result"
    }
   ],
   "source": [
    "features.shape"
   ]
  }
 ],
 "metadata": {
  "kernelspec": {
   "display_name": "Python [conda root]",
   "language": "python",
   "name": "conda-root-py"
  },
  "language_info": {
   "codemirror_mode": {
    "name": "ipython",
    "version": 3
   },
   "file_extension": ".py",
   "mimetype": "text/x-python",
   "name": "python",
   "nbconvert_exporter": "python",
   "pygments_lexer": "ipython3",
   "version": "3.6.0"
  }
 },
 "nbformat": 4,
 "nbformat_minor": 2
}
