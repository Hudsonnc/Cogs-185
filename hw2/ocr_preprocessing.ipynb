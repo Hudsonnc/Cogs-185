{
 "cells": [
  {
   "cell_type": "code",
   "execution_count": 71,
   "metadata": {
    "collapsed": true
   },
   "outputs": [],
   "source": [
    "import numpy as np\n",
    "from pystruct.datasets import load_letters\n",
    "letters = load_letters()\n",
    "X, y = letters['data'], letters['labels']\n",
    "X, y = np.array(X), np.array(y)"
   ]
  },
  {
   "cell_type": "code",
   "execution_count": 72,
   "metadata": {},
   "outputs": [
    {
     "data": {
      "text/plain": [
       "array([ 0,  1,  2,  3,  4,  5,  6,  7,  8,  9, 10, 11, 12, 13, 14, 15, 16,\n",
       "       17, 18, 19, 20, 21, 22, 23, 24, 25])"
      ]
     },
     "execution_count": 72,
     "metadata": {},
     "output_type": "execute_result"
    }
   ],
   "source": [
    "np.unique(np.concatenate([np.unique(yi) for yi in y]))"
   ]
  },
  {
   "cell_type": "code",
   "execution_count": 68,
   "metadata": {},
   "outputs": [
    {
     "data": {
      "text/plain": [
       "array([array([14, 12, 12,  0, 13,  3,  8, 13,  6]),\n",
       "       array([14, 12, 12,  0, 13,  3,  8, 13,  6]),\n",
       "       array([14, 12, 12,  0, 13,  3,  8, 13,  6]), ...,\n",
       "       array([13,  2, 14, 13, 18,  4, 16, 20,  4, 13, 19,  8,  0, 11]),\n",
       "       array([13,  2, 14, 13, 18,  4, 16, 20,  4, 13, 19,  8,  0, 11]),\n",
       "       array([13,  2, 14, 13, 18,  4, 16, 20,  4, 13, 19,  8,  0, 11])], dtype=object)"
      ]
     },
     "execution_count": 68,
     "metadata": {},
     "output_type": "execute_result"
    }
   ],
   "source": [
    "y"
   ]
  },
  {
   "cell_type": "code",
   "execution_count": 211,
   "metadata": {},
   "outputs": [],
   "source": [
    "def splitWord(feature, label, window):\n",
    "    feature = np.array(feature)\n",
    "    label = np.array(label).reshape(-1,1)\n",
    "    \n",
    "    num_letters = feature.shape[0]\n",
    "    letter_features = feature.shape[1]\n",
    "    \n",
    "    feature_splits = []\n",
    "    label_splits = []\n",
    "    if num_letters < window:\n",
    "        features_to_append = np.zeros((window - num_letters, letter_features))\n",
    "        labels_to_append = np.array([26 for i in range(window - num_letters)]).reshape((-1,1))\n",
    "        \n",
    "        feature_split = (np.vstack((feature, features_to_append)))\n",
    "        label_split = (np.vstack((label, labels_to_append)))\n",
    "        \n",
    "        feature_splits.append(feature_split)\n",
    "        label_splits.append(label_split)\n",
    "    else: \n",
    "        for i in range(num_letters - window + 1):\n",
    "            feature_split = feature[i:(i+window)]\n",
    "            label_split = label[i:(i+window)]\n",
    "            \n",
    "            feature_splits.append(feature_split)\n",
    "            label_splits.append(label_split)\n",
    "    return(np.array(feature_splits), np.array(label_splits))                    "
   ]
  },
  {
   "cell_type": "code",
   "execution_count": 212,
   "metadata": {
    "collapsed": true
   },
   "outputs": [],
   "source": [
    "def splitWords(features, labels, window):\n",
    "    feature_splits, label_splits = zip(*list(map(lambda x, y: splitWord(x,y,window), features, labels)))\n",
    "    feature_splits = np.vstack(feature_splits)\n",
    "    label_splits = np.vstack(label_splits)\n",
    "    return(feature_splits, label_splits)"
   ]
  },
  {
   "cell_type": "code",
   "execution_count": 213,
   "metadata": {},
   "outputs": [],
   "source": [
    "def selectWordsByLetters(words, start, stop):\n",
    "    i = 0\n",
    "    newWords = []\n",
    "    for word in words:\n",
    "        newWord = []\n",
    "        for letter in word:\n",
    "            if i >= start:\n",
    "                if i < stop:\n",
    "                    newWord.append(letter)\n",
    "                else:\n",
    "                    if newWord:\n",
    "                        newWords.append(np.array(newWord))\n",
    "                    return(np.array(newWords))\n",
    "            i = i + 1\n",
    "        if newWord:\n",
    "            newWords.append(np.array(newWord))"
   ]
  },
  {
   "cell_type": "code",
   "execution_count": 214,
   "metadata": {},
   "outputs": [],
   "source": [
    "train_word_features = selectWordsByLetters(X, 0, 4000)\n",
    "train_word_labels = selectWordsByLetters(y, 0, 4000)\n",
    "\n",
    "test_word_features = selectWordsByLetters(X, 4000, 5000)\n",
    "test_word_labels = selectWordsByLetters(y, 4000, 5000)"
   ]
  },
  {
   "cell_type": "code",
   "execution_count": 218,
   "metadata": {},
   "outputs": [
    {
     "data": {
      "text/plain": [
       "4000"
      ]
     },
     "execution_count": 218,
     "metadata": {},
     "output_type": "execute_result"
    }
   ],
   "source": [
    "#Test to see if lengths are correct\n",
    "sum([len(entry) for entry in train_word_labels])"
   ]
  },
  {
   "cell_type": "code",
   "execution_count": 217,
   "metadata": {},
   "outputs": [
    {
     "data": {
      "text/plain": [
       "1000"
      ]
     },
     "execution_count": 217,
     "metadata": {},
     "output_type": "execute_result"
    }
   ],
   "source": [
    "#Test to see if lengths are correct\n",
    "sum([len(entry) for entry in test_word_labels])"
   ]
  },
  {
   "cell_type": "code",
   "execution_count": 220,
   "metadata": {
    "collapsed": true
   },
   "outputs": [],
   "source": [
    "#Window size:\n",
    "window = 2"
   ]
  },
  {
   "cell_type": "code",
   "execution_count": 221,
   "metadata": {},
   "outputs": [],
   "source": [
    "X_train, y_train = splitWords(train_word_features, train_word_labels, window)"
   ]
  },
  {
   "cell_type": "code",
   "execution_count": 222,
   "metadata": {
    "scrolled": true
   },
   "outputs": [
    {
     "data": {
      "text/plain": [
       "(3519, 2, 128)"
      ]
     },
     "execution_count": 222,
     "metadata": {},
     "output_type": "execute_result"
    }
   ],
   "source": [
    "X_train.shape"
   ]
  },
  {
   "cell_type": "code",
   "execution_count": 223,
   "metadata": {},
   "outputs": [
    {
     "data": {
      "text/plain": [
       "(3519, 2, 1)"
      ]
     },
     "execution_count": 223,
     "metadata": {},
     "output_type": "execute_result"
    }
   ],
   "source": [
    "y_train.shape"
   ]
  }
 ],
 "metadata": {
  "kernelspec": {
   "display_name": "Python [conda root]",
   "language": "python",
   "name": "conda-root-py"
  },
  "language_info": {
   "codemirror_mode": {
    "name": "ipython",
    "version": 3
   },
   "file_extension": ".py",
   "mimetype": "text/x-python",
   "name": "python",
   "nbconvert_exporter": "python",
   "pygments_lexer": "ipython3",
   "version": "3.6.0"
  }
 },
 "nbformat": 4,
 "nbformat_minor": 2
}
