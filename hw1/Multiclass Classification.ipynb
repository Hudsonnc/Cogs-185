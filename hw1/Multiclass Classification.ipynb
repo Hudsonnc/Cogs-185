{
 "cells": [
  {
   "cell_type": "code",
   "execution_count": 12,
   "metadata": {
    "collapsed": true
   },
   "outputs": [],
   "source": [
    "import numpy as np\n",
    "from sklearn import datasets\n",
    "from matplotlib import pyplot as plt\n",
    "%matplotlib inline"
   ]
  },
  {
   "cell_type": "code",
   "execution_count": 2,
   "metadata": {
    "collapsed": false
   },
   "outputs": [],
   "source": [
    "iris = datasets.load_iris()"
   ]
  },
  {
   "cell_type": "markdown",
   "metadata": {},
   "source": [
    "# Task 1: One Vs. All SVM"
   ]
  },
  {
   "cell_type": "markdown",
   "metadata": {},
   "source": [
    "$$ \\frac{\\partial \\mathscr{L}}{\\partial \\mathbf{w}} = \\mathbf{w} + \\lambda \\sum_{i} \\begin{cases} 0 ,& y_i\\mathbf{w}^{T}\\mathbf{x}_{i} \\geq 1 \\\\ -y_{i}\\mathbf{x}_{i},& else\\end{cases}$$"
   ]
  },
  {
   "cell_type": "code",
   "execution_count": 6,
   "metadata": {
    "collapsed": false
   },
   "outputs": [],
   "source": [
    "class OneVAllSVM(object):\n",
    "    def __init__(self, random_seed = None):\n",
    "        self.random = np.random.RandomState(random_seed)\n",
    "    \n",
    "    def train(self, x, y, lamb, lr, iters):\n",
    "        n_samples = x.shape[0]\n",
    "        n_features = x.shape[1]\n",
    "        self.n_features = n_features\n",
    "        n_classes = len(np.unique(y))\n",
    "        self.n_classes = n_classes\n",
    "        \n",
    "        \n",
    "        #Add bias column\n",
    "        x = np.hstack((np.ones((n_samples, 1)), x))\n",
    "        \n",
    "        #\"Xavier\" initialization\n",
    "        W = self.random.normal(0, np.sqrt(2/(n_features+1)), \n",
    "                             (n_classes,n_features+1))\n",
    "        self.W = W\n",
    "        \n",
    "        for i in range(n_classes):\n",
    "            #convert to one versus all labeling\n",
    "            class_i = np.unique(y)[i]\n",
    "            y_1va = np.array([0 if yi == class_i else 1 for yi in y])\n",
    "            \n",
    "            dLdw = lambda w: w + lamb * np.sum(\n",
    "                [0 if y[i]*np.dot(w, x[i]) >= 1 \n",
    "                else -y[i]*x[i] for i in range(n_samples)],\n",
    "                axis = 0\n",
    "            )\n",
    "            \n",
    "            for iteration in range(iters):\n",
    "                W[i] = W[i] - .01*dLdw(W[i])\n",
    "    \n",
    "    def predict(self, x):\n",
    "        x_bias = np.hstack((np.ones((x.shape[0], 1)), x))\n",
    "        return(\n",
    "            np.array(\n",
    "                [\n",
    "                    [np.dot(self.W[i], x_bias[j]) for i in range(self.n_classes)]\n",
    "                    for j in range(len(x_bias))\n",
    "                ]\n",
    "            )\n",
    "        )"
   ]
  },
  {
   "cell_type": "code",
   "execution_count": 7,
   "metadata": {
    "collapsed": false
   },
   "outputs": [],
   "source": [
    "y = iris['target']\n",
    "x = iris['data']"
   ]
  },
  {
   "cell_type": "code",
   "execution_count": 8,
   "metadata": {
    "collapsed": false
   },
   "outputs": [],
   "source": [
    "svm = OneVAllSVM(10)\n",
    "svm.train(x, y, lamb = .5, lr = .01, iters = 1000)"
   ]
  },
  {
   "cell_type": "code",
   "execution_count": 9,
   "metadata": {
    "collapsed": false
   },
   "outputs": [
    {
     "data": {
      "text/plain": [
       "array([[ 0.03236955,  0.16060466,  0.07220249,  0.10883328,  0.03235331],\n",
       "       [ 0.02634974,  0.13102731,  0.06149636,  0.08658295,  0.02681939],\n",
       "       [ 0.02338373,  0.11614591,  0.05448328,  0.0767518 ,  0.0237765 ]])"
      ]
     },
     "execution_count": 9,
     "metadata": {},
     "output_type": "execute_result"
    }
   ],
   "source": [
    "svm.W"
   ]
  },
  {
   "cell_type": "code",
   "execution_count": 10,
   "metadata": {
    "collapsed": false,
    "scrolled": true
   },
   "outputs": [
    {
     "data": {
      "text/plain": [
       "array([[ 1.2629993 ,  1.03640632,  0.91862715],\n",
       "       [ 1.19477712,  0.97945268,  0.86815633],\n",
       "       [ 1.16621336,  0.95688819,  0.84814862],\n",
       "       [ 1.1646993 ,  0.95495241,  0.84643606],\n",
       "       [ 1.25415908,  1.02945322,  0.91246089],\n",
       "       [ 1.37918234,  1.13165182,  1.00304507],\n",
       "       [ 1.17871205,  0.96742497,  0.85748352],\n",
       "       [ 1.25060191,  1.02581225,  0.90923941],\n",
       "       [ 1.10725454,  0.90778938,  0.80463505],\n",
       "       [ 1.20964537,  0.99157867,  0.87890219],\n",
       "       [ 1.33650453,  1.09667208,  0.97204276],\n",
       "       [ 1.22936431,  1.00826508,  0.89368541],\n",
       "       [ 1.17548133,  0.96366801,  0.85416409],\n",
       "       [ 1.06252901,  0.87217946,  0.77306559],\n",
       "       [ 1.38975715,  1.14155703,  1.01182056],\n",
       "       [ 1.44169833,  1.18439161,  1.04978012],\n",
       "       [ 1.33564903,  1.09701864,  0.97234435],\n",
       "       [ 1.26623463,  1.03908826,  0.9210048 ],\n",
       "       [ 1.41690816,  1.16212844,  1.03006287],\n",
       "       [ 1.29877871,  1.06619546,  0.94502496],\n",
       "       [ 1.33661043,  1.09553976,  0.97104813],\n",
       "       [ 1.29479379,  1.06272777,  0.94195428],\n",
       "       [ 1.14638391,  0.94240912,  0.8353018 ],\n",
       "       [ 1.29091478,  1.05812775,  0.93788898],\n",
       "       [ 1.26201429,  1.03423997,  0.91671095],\n",
       "       [ 1.23260425,  1.009872  ,  0.89512128],\n",
       "       [ 1.2679559 ,  1.03983442,  0.92166989],\n",
       "       [ 1.2899431 ,  1.05816735,  0.93791692],\n",
       "       [ 1.27183952,  1.04335941,  0.92479341],\n",
       "       [ 1.19886334,  0.98286308,  0.87117416],\n",
       "       [ 1.20770356,  0.98981617,  0.87734043],\n",
       "       [ 1.32131444,  1.08358705,  0.96045307],\n",
       "       [ 1.33002926,  1.09238322,  0.96822924],\n",
       "       [ 1.37778291,  1.1318647 ,  1.00322381],\n",
       "       [ 1.20964537,  0.99157867,  0.87890219],\n",
       "       [ 1.20351143,  0.98753809,  0.87531721],\n",
       "       [ 1.31635784,  1.08015895,  0.95741033],\n",
       "       [ 1.20964537,  0.99157867,  0.87890219],\n",
       "       [ 1.10359146,  0.90528072,  0.80240819],\n",
       "       [ 1.26666238,  1.03891498,  0.920854  ],\n",
       "       [ 1.23929084,  1.01732723,  0.90171503],\n",
       "       [ 1.07234552,  0.87801794,  0.77826214],\n",
       "       [ 1.11803196,  0.91758   ,  0.81330485],\n",
       "       [ 1.28164681,  1.05134793,  0.93187352],\n",
       "       [ 1.34554735,  1.10351058,  0.97810333],\n",
       "       [ 1.18195199,  0.96903188,  0.85891939],\n",
       "       [ 1.3064267 ,  1.07217182,  0.95032249],\n",
       "       [ 1.16103622,  0.95244375,  0.84420921],\n",
       "       [ 1.32044406,  1.08356935,  0.96042817],\n",
       "       [ 1.23249834,  1.01100432,  0.8961159 ],\n",
       "       [ 1.9444612 ,  1.58481632,  1.40477213],\n",
       "       [ 1.82956708,  1.49156528,  1.32211187],\n",
       "       [ 1.94618247,  1.58556248,  1.40543722],\n",
       "       [ 1.55915334,  1.26963862,  1.1254144 ],\n",
       "       [ 1.82762988,  1.48872776,  1.31960833],\n",
       "       [ 1.68179216,  1.36988374,  1.21426113],\n",
       "       [ 1.84572885,  1.50461072,  1.33367362],\n",
       "       [ 1.3841215 ,  1.12851798,  1.00031598],\n",
       "       [ 1.84443993,  1.50261625,  1.33191595],\n",
       "       [ 1.53220494,  1.24895261,  1.10706641],\n",
       "       [ 1.39306763,  1.13433876,  1.00548762],\n",
       "       [ 1.70217426,  1.38777747,  1.23011672],\n",
       "       [ 1.62252943,  1.32095682,  1.17090608],\n",
       "       [ 1.77825626,  1.44844283,  1.28389583],\n",
       "       [ 1.57500199,  1.28500599,  1.13901824],\n",
       "       [ 1.85640957,  1.5133836 ,  1.34145449],\n",
       "       [ 1.68664285,  1.37444416,  1.21829849],\n",
       "       [ 1.63739307,  1.33415784,  1.18259372],\n",
       "       [ 1.72524366,  1.40386346,  1.24439941],\n",
       "       [ 1.57230031,  1.28101845,  1.13549517],\n",
       "       [ 1.79162072,  1.46007233,  1.29419741],\n",
       "       [ 1.69161738,  1.37900319,  1.22234359],\n",
       "       [ 1.80649818,  1.47004828,  1.30305971],\n",
       "       [ 1.76456535,  1.43692932,  1.2736922 ],\n",
       "       [ 1.77966901,  1.4504359 ,  1.28566123],\n",
       "       [ 1.83312885,  1.49413124,  1.32439157],\n",
       "       [ 1.8943426 ,  1.54267061,  1.36742481],\n",
       "       [ 1.92419528,  1.56722956,  1.38919019],\n",
       "       [ 1.74366447,  1.42070545,  1.25930852],\n",
       "       [ 1.54881239,  1.2629557 ,  1.11947972],\n",
       "       [ 1.53813627,  1.25310779,  1.11075707],\n",
       "       [ 1.52401761,  1.24176755,  1.10070424],\n",
       "       [ 1.62209708,  1.32220512,  1.17199866],\n",
       "       [ 1.79775927,  1.46303789,  1.2968406 ],\n",
       "       [ 1.65452192,  1.3482387 ,  1.19506931],\n",
       "       [ 1.78300104,  1.45413557,  1.28892781],\n",
       "       [ 1.89229488,  1.54204043,  1.36685768],\n",
       "       [ 1.73117038,  1.40909365,  1.24903185],\n",
       "       [ 1.63663888,  1.3344471 ,  1.18284247],\n",
       "       [ 1.57359384,  1.28193789,  1.13631106],\n",
       "       [ 1.62111207,  1.32003877,  1.17008246],\n",
       "       [ 1.77459318,  1.44593417,  1.28166897],\n",
       "       [ 1.62576015,  1.32471378,  1.17422551],\n",
       "       [ 1.39296172,  1.13547108,  1.00648224],\n",
       "       [ 1.62586146,  1.32465649,  1.17417267],\n",
       "       [ 1.66034734,  1.35352619,  1.19975459],\n",
       "       [ 1.65636242,  1.35005849,  1.19668391],\n",
       "       [ 1.74754808,  1.42423044,  1.26243205],\n",
       "       [ 1.39404803,  1.13758013,  1.0083456 ],\n",
       "       [ 1.63825884,  1.33525056,  1.18356041],\n",
       "       [ 2.01633008,  1.64130601,  1.45484981],\n",
       "       [ 1.77534432,  1.44487824,  1.28074437],\n",
       "       [ 2.09932842,  1.7082929 ,  1.51423577],\n",
       "       [ 1.92126846,  1.56330071,  1.38571223],\n",
       "       [ 1.99531762,  1.62370015,  1.43925069],\n",
       "       [ 2.25581404,  1.83441462,  1.62603498],\n",
       "       [ 1.544589  ,  1.25734074,  1.11451001],\n",
       "       [ 2.15805642,  1.75493609,  1.55558439],\n",
       "       [ 1.97839599,  1.60842968,  1.42572764],\n",
       "       [ 2.19341836,  1.78633779,  1.58340129],\n",
       "       [ 1.92710416,  1.57002748,  1.39166579],\n",
       "       [ 1.89347378,  1.54081122,  1.36578227],\n",
       "       [ 2.00761371,  1.63435152,  1.44869128],\n",
       "       [ 1.73719536,  1.41349988,  1.25293559],\n",
       "       [ 1.79874123,  1.46443757,  1.29808094],\n",
       "       [ 1.94251635,  1.58228716,  1.40253451],\n",
       "       [ 1.94972632,  1.58699751,  1.40671456],\n",
       "       [ 2.34375516,  1.90805468,  1.69128903],\n",
       "       [ 2.28211416,  1.85425757,  1.6436371 ],\n",
       "       [ 1.74753936,  1.42094947,  1.25954613],\n",
       "       [ 2.06635199,  1.68243399,  1.49130818],\n",
       "       [ 1.73191232,  1.41018776,  1.2499908 ],\n",
       "       [ 2.26508201,  1.84119444,  1.63205045],\n",
       "       [ 1.83064467,  1.49039337,  1.32108931],\n",
       "       [ 2.03498064,  1.65701429,  1.46877203],\n",
       "       [ 2.13100672,  1.73430738,  1.53728925],\n",
       "       [ 1.81092112,  1.47478198,  1.30724787],\n",
       "       [ 1.82018448,  1.48263681,  1.31420511],\n",
       "       [ 1.93981467,  1.57829962,  1.39901144],\n",
       "       [ 2.0883289 ,  1.69932764,  1.50628693],\n",
       "       [ 2.14836531,  1.74725453,  1.54877795],\n",
       "       [ 2.33675545,  1.90292137,  1.68673737],\n",
       "       [ 1.94305   ,  1.58098156,  1.40138909],\n",
       "       [ 1.84992558,  1.50581378,  1.33475505],\n",
       "       [ 1.85454546,  1.50791858,  1.33662746],\n",
       "       [ 2.22392853,  1.80958975,  1.60402897],\n",
       "       [ 1.97678169,  1.61014052,  1.42721976],\n",
       "       [ 1.9408861 ,  1.58004442,  1.40054829],\n",
       "       [ 1.79324069,  1.46087579,  1.29491534],\n",
       "       [ 2.0200111 ,  1.64494559,  1.45807902],\n",
       "       [ 2.01936281,  1.64410254,  1.45733314],\n",
       "       [ 1.99383177,  1.62433459,  1.43980878],\n",
       "       [ 1.77534432,  1.44487824,  1.28074437],\n",
       "       [ 2.07205818,  1.68664785,  1.49504395],\n",
       "       [ 2.04792197,  1.66774205,  1.47828263],\n",
       "       [ 1.96537392,  1.60063778,  1.41880645],\n",
       "       [ 1.83032283,  1.48943433,  1.32024548],\n",
       "       [ 1.92354699,  1.5663865 ,  1.38844432],\n",
       "       [ 1.93571924,  1.57703926,  1.39787716],\n",
       "       [ 1.80983021,  1.47374794,  1.30632629]])"
      ]
     },
     "execution_count": 10,
     "metadata": {},
     "output_type": "execute_result"
    }
   ],
   "source": [
    "svm.predict(x)"
   ]
  },
  {
   "cell_type": "code",
   "execution_count": 23,
   "metadata": {
    "collapsed": false,
    "scrolled": false
   },
   "outputs": [
    {
     "data": {
      "text/plain": [
       "<matplotlib.collections.PathCollection at 0x7fd1b6d8a5f8>"
      ]
     },
     "execution_count": 23,
     "metadata": {},
     "output_type": "execute_result"
    },
    {
     "data": {
      "image/png": "[encoded data removed]",
      "text/plain": [
       "<matplotlib.figure.Figure at 0x7fd1b72e8a20>"
      ]
     },
     "metadata": {},
     "output_type": "display_data"
    }
   ],
   "source": [
    "W = svm.W \n",
    "plotrange = np.arange(-10,10,.1)\n",
    "plt.plot(plotrange, ((1-W[1,0])-W[1,1]*plotrange)/W[1,2])\n",
    "plt.plot(plotrange, ((-1-W[1,0])-W[1,1]*plotrange)/W[1,2])\n",
    "plt.scatter(x[:,0], x[:,1], color = np.array(['r' if yi ==0 else 'b' for yi in y]))"
   ]
  }
 ],
 "metadata": {
  "kernelspec": {
   "display_name": "Python 3",
   "language": "python",
   "name": "python3"
  },
  "language_info": {
   "codemirror_mode": {
    "name": "ipython",
    "version": 3
   },
   "file_extension": ".py",
   "mimetype": "text/x-python",
   "name": "python",
   "nbconvert_exporter": "python",
   "pygments_lexer": "ipython3",
   "version": "3.6.0"
  }
 },
 "nbformat": 4,
 "nbformat_minor": 2
}
